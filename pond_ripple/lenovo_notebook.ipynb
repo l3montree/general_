version https://git-lfs.github.com/spec/v1
oid sha256:027c75a21df3b523883537250523dedcdd9700eaf84c631a853006e24515f6cd
size 1293686
