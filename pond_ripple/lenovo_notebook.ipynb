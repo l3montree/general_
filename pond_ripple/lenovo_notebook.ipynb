version https://git-lfs.github.com/spec/v1
oid sha256:6eaab95ef3f6aef3213b7df0c769be9eca7039f8148cc6f5d24647f31f8f553e
size 6565
