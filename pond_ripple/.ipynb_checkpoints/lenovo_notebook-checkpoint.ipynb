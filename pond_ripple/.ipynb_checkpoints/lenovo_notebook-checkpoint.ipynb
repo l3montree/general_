version https://git-lfs.github.com/spec/v1
oid sha256:dd837c9ac9dd8e791bb50fa06ef740a8c0bb187dcb98555ba4ceab3ae0d0b20c
size 1293656
